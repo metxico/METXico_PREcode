import requests

CACTUS = "https://cactus.nci.nih.gov/chemical/structure/{0}/{1}"

def smiles_to_iupac(smiles):
    rep = "iupac_name"
    url = CACTUS.format(smiles, rep)
    response = requests.get(url)
    response.raise_for_status()
    return response.text

print(smiles_to_iupac('CCOC(=O)CC(O)(CC(=O)OCC)C(=O)OCC', 'C=C1C(=O)OC2CC3(C)C(O)CC(O)C(=C)C3CC12', 'CC/C=C/CC(C(/C=C/C(CCCCCCCC(O)=O)O)O)O'))



!import pubchempy

pip install pubchempy

import pubchempy

smiles = 'CCOC(=O)CC(O)(CC(=O)OCC)C(=O)OCC'

compounds = pubchempy.get_compounds(smiles, namespace='smiles')

match = compounds[0]

print(match.iupac_name)

!c = Compound.from_cid(6819)

filename = open("inif1.txt", "r")

for line in filename (100):

!event = line

compounds = pcp.get_compounds(event, namespace='smiles') 

match = compounds[0]

!print(i,'$$$','the CID is',compounds,'$$$','The IUPAC name is',match.iupac_name,'$$$','for the SMILE',event)

!i+=1```

for i in range(100)

import pandas as pd

sol = pd.read_csv('iupac_name.csv')

sol.Smiles

sol.Smiles[0]


